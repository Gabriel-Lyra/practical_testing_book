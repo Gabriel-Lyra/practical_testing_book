{
 "cells": [
  {
   "cell_type": "markdown",
   "metadata": {},
   "source": [
    "Continuous Integration\n",
    "================\n",
    "\n",
    "Continuous Integration (CI), is a software development technique where all developers send their code to a central repository. There it passes through a process of build and testing. It's objectives are find and investigate bugs quicker and therefore enhance code quality and also diminishing the time it takes to validate and release new features.\n"
   ]
  },
  {
   "cell_type": "markdown",
   "metadata": {},
   "source": [
    "## How does it work?\n",
    "\n",
    "Normally, developers use a version control system, such as git. After submitting their code to shared repositories a CI server automatically run tests, alongside with building the system, and may display errors right away. As changes that are made are typically small, pinpointing the specific change that caused a defect can be spotted and corrected quickly.\n",
    "\n",
    "![image.png](https://cloud.google.com/solutions/continuous-integration/images/hero-banner.png?hl=pt-br)\n",
    "\n",
    "This way, the code changes are created, tested and prepared automatically, so that the production is facilitated. \n",
    "\n",
    "For visual learners, Fireship has a great (2 min) video about the topic: [CI/CD Explained](https://www.youtube.com/watch?v=scEDHsr3APg&ab_channel=Fireship)\n",
    "\n"
   ]
  },
  {
   "cell_type": "markdown",
   "metadata": {},
   "source": [
    "## Hands On:\n",
    "\n",
    "Now let's create the whole chain of steps necessary to use CI. For this exercise you'll need know the basics of Git and Python. We will be using Github and CircleCI as our integration services and Linux and Python as our platforms.\n",
    "As such, some basic steps need to be taken: A repository on github, a virtual working enviroment a simple example code and tests for the code."
   ]
  },
  {
   "cell_type": "markdown",
   "metadata": {},
   "source": [
    "<a href=\"https://colab.research.google.com/github/damorimRG/practical_testing_book/blob/master/testregression/ANOTHER_NOTEBOOK.ipynb\" target=\"_blank\">\n",
    "<img alt=\"Open In Colab\" align=\"left\" src=\"https://colab.research.google.com/assets/colab-badge.svg\"></a>"
   ]
  },
  {
   "cell_type": "markdown",
   "metadata": {},
   "source": [
    "1º: You will need to create a new repository on Github and call it CI_example and then clone the repository to your machine."
   ]
  },
  {
   "cell_type": "code",
   "execution_count": null,
   "metadata": {},
   "outputs": [],
   "source": [
    "### 2º: Create a working enviroment using shell.\n",
    "\n",
    "apt-get install python3-venv\n",
    "python3 -m venv Calculator\n",
    ". Calculator/bin/activate\n",
    "\n",
    "\n",
    "### 3º: Write some simple code (in this case a simple calculator) on python and call it calc.py:\n",
    "\n",
    "\n",
    "    def add(x, y):\n",
    "        return x + y\n",
    "\n",
    "    def subtract(x, y):\n",
    "        return x - y\n",
    "        \n",
    "    def multiply(x, y):\n",
    "        return x * y\n",
    "        \n",
    "    def divide(x, y):\n",
    "        return x / y\n",
    "\n",
    "\n",
    "# Commit code to your repo.\n",
    "\n",
    "cd CI_example\n",
    "git add calc.py\n",
    "git commit -m\n",
    "\n",
    "\n",
    "### 4º: Write some tests for the code on python and call it calc_tests.py:\n",
    "\n",
    "\n",
    "import calc\n",
    "\n",
    "    class test:\n",
    "\n",
    "        def test_addition(self):\n",
    "            assert 4 == calculator.add(2, 2)\n",
    "\n",
    "        def test_subtraction(self):\n",
    "            assert 2 == calculator.subtract(4, 2)\n",
    "            \n",
    "        def test_multiplication(self):\n",
    "            assert 100 == calculator.multiply(10, 10)\n",
    "            \n",
    "        def test_division(self):\n",
    "            assert 5 == calculator.divide(25, 5)\n",
    "\n",
    "\n",
    "# For testing we will use pytest.\n",
    "\n",
    "pip install pytest\n",
    "\n",
    "# Normally, you would now use \"$ pytest -v\" to test your code. Instead we shall commit the tests to the Github repository.\n",
    "\n",
    "git add calc_tests.py\n",
    "git commit -m\n",
    "git push\n"
   ]
  },
  {
   "cell_type": "markdown",
   "metadata": {},
   "source": [
    "5º: Finally, let's integrate your codes and your Github to CircleCI! For this you need to create a .circleci folder in your repository and a config.yml file with the following code inside:"
   ]
  },
  {
   "cell_type": "code",
   "execution_count": null,
   "metadata": {},
   "outputs": [],
   "source": [
    "version: 2\n",
    "jobs:\n",
    "    \n",
    "  build:\n",
    "      \n",
    "    docker:\n",
    "        \n",
    "      - image: circleci/python:3.7\n",
    "\n",
    "    working_directory: ~/repo\n",
    "\n",
    "    steps:\n",
    "        \n",
    "      - checkout\n",
    "          \n",
    "      - run:\n",
    "          \n",
    "          name: virtual enviroment start\n",
    "          command: |\n",
    "            python3 -m venv venv\n",
    "            . venv/bin/activate\n",
    "            pip install -r requirements.txt\n",
    "                \n",
    "      - run:\n",
    "          \n",
    "          name: test\n",
    "          command: |\n",
    "            . venv/bin/activate\n",
    "            pytest -v=calc"
   ]
  },
  {
   "cell_type": "markdown",
   "metadata": {},
   "source": [
    "6º: Now commit some changes to the code and voilá! All pushes made will trigger your test_calculator.py and the results will be visible on CircleCI, at Jobs."
   ]
  },
  {
   "cell_type": "markdown",
   "metadata": {},
   "source": [
    "## Why it helps?\n",
    "\n",
    "- Enhance developers productivity. It makes the team more productive once the CI process is all made automatically.\n",
    "\n",
    "- With tests being made more often, bugs are discovered earlier, before scaling.\n",
    "\n",
    "- Features can be released more often, knowing they won't break the application.\n",
    "\n",
    "- You will have to spend less resources on fixing others code so you can integrate your own code to the build."
   ]
  },
  {
   "cell_type": "markdown",
   "metadata": {},
   "source": [
    "**Some examples of Continuous Integration Servers**\n",
    "- [CircleCI](https://circleci.com/)\n",
    "- [TravisCI](https://travis-ci.org/)\n",
    "- [Jenkins](https://www.jenkins.io/)\n",
    "- [GitHub Actions](https://github.com/features/actions)"
   ]
  },
  {
   "cell_type": "markdown",
   "metadata": {},
   "source": [
    "[Colab Badge]: https://colab.research.google.com/assets/colab-badge.svg \"Google Colab\"\n",
    "[Colab Blank]: https://colab.research.google.com/github/vojtamolda/Plotly.swift/blob/master/Examples/Notebooks/Blank.ipynb "
   ]
  }
 ],
 "metadata": {
  "kernelspec": {
   "display_name": "Python 3",
   "language": "python",
   "name": "python3"
  },
  "language_info": {
   "codemirror_mode": {
    "name": "ipython",
    "version": 3
   },
   "file_extension": ".py",
   "mimetype": "text/x-python",
   "name": "python",
   "nbconvert_exporter": "python",
   "pygments_lexer": "ipython3",
   "version": "3.7.1"
  }
 },
 "nbformat": 4,
 "nbformat_minor": 2
}
