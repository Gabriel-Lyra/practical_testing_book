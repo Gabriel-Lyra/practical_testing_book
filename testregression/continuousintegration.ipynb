{
 "cells": [
  {
   "cell_type": "markdown",
   "metadata": {},
   "source": [
    "Continuous Integration\n",
    "================\n",
    "\n",
    "Continuous Integration (CI), is a software development technique where all developers send their code to a central repository. There it passes through a process of build and testing. It's objectives are find and investigate bugs quicker and therefore enhance code quality and also diminishing the time it takes to validate and release new features.\n"
   ]
  },
  {
   "attachments": {
    "image.png": {
     "image/png": "[encoded data removed]"
    }
   },
   "cell_type": "markdown",
   "metadata": {},
   "source": [
    "## How does it work?\n",
    "\n",
    "Normally, developers use a version control system, such as git. Before submitted their code to code repositories A CI server is integrated with these code buckets in order to run the tests automatically, alongside with building the system, and may display errors right away. \n",
    "\n",
    "![image.png](attachment:image.png)\n",
    "\n",
    "This way, the code changes are created, tested and prepared automatically, so that the production is facilitated. \n",
    "\n",
    "For visual learners, Fireship has a great (2 min) video about the topic: [CI/CD Explained](https://www.youtube.com/watch?v=scEDHsr3APg&ab_channel=Fireship)\n",
    "\n"
   ]
  },
  {
   "cell_type": "markdown",
   "metadata": {},
   "source": [
    "\n",
    "\n",
    "## Hands On: [![Open In Colab](https://colab.research.google.com/assets/colab-badge.svg)](https://colab.research.google.com/github/damorimRG/practical_testing_book/blob/master/testregression/continuousintegration.ipynb)\n",
    "\n",
    "Now let's create the whole chain of steps necessary to use CI. For this exercise you'll need know the basics of Git and Python. We will be using Github and CircleCI as our integration services and Linux and Python as our platforms.\n",
    "As such, some basic steps need to be taken: A repository on github, a virtual working enviroment a simple example code and tests for the code."
   ]
  },
  {
   "cell_type": "markdown",
   "metadata": {},
   "source": [
    "1º: You will need to create a new repository on Github and call it CI_example and then clone the repository to your machine. (**this is essential for the code below to work properly**)"
   ]
  },
  {
   "cell_type": "code",
   "execution_count": null,
   "metadata": {},
   "outputs": [],
   "source": [
    "### 2º: Creating a working enviroment\n",
    "\n",
    "!apt-get install python3-venv\n",
    "!python3 -m venv Calculator\n",
    "!. Calculator/bin/activate\n",
    "\n",
    "\n",
    "### 3º: Writing some simple code on python and calling it calc:\n",
    "\n",
    "!touch calc.py\n",
    "\n",
    "!echo def add(x, y): >> calc.py\n",
    "!echo return x + y >> calc.py\n",
    "\n",
    "!echo def subtract(x, y): >> calc.py\n",
    "!echo return x - y >> calc.py\n",
    "        \n",
    "!echo def multiply(x, y): >> calc.py\n",
    "!echo return x * y >> calc.py\n",
    "        \n",
    "!echo def divide(x, y): >> calc.py\n",
    "!echo return x / y >> calc.py\n",
    "\n",
    "\n",
    "# Commit code to your repo.\n",
    "!cd CI_example\n",
    "!git add calc.py\n",
    "!git commit -m\n",
    "\n",
    "\n",
    "### 4º: Writing some tests for the code on python and calling it calc_tests:\n",
    "\n",
    "!touch calc_tests.py\n",
    "\n",
    "!echo import calc >> calc.py\n",
    "\n",
    "\n",
    "!echo class test: >> calc.py\n",
    "\n",
    "!echo def test_addition(self): >> calc.py\n",
    "!echo assert 4 == calculator.add(2, 2) >> calc.py\n",
    "\n",
    "!echo def test_subtraction(self): >> calc.py\n",
    "!echo assert 2 == calculator.subtract(4, 2) >> calc.py\n",
    "            \n",
    "!echo def test_multiplication(self): >> calc.py\n",
    "!echo assert 100 == calculator.multiply(10, 10) >> calc.py\n",
    "            \n",
    "!echo def test_division(self): >> calc.py\n",
    "!echo assert 5 == calculator.divide(25, 5) >> calc.py\n",
    "\n",
    "\n",
    "# For testing we will use pytest.\n",
    "!pip install pytest\n",
    "\n",
    "# Normally, you would now use \"$ pytest -v\" to test your code. Instead we shall commit the tests to the Github repository.\n",
    "!git add calc_tests.py\n",
    "!git commit -m\n",
    "!git push\n"
   ]
  },
  {
   "cell_type": "markdown",
   "metadata": {},
   "source": [
    "5º: Finally, let's integrate your codes and your Github to CircleCI! For this you need to create a .circleci folder in your repository and a config.yml file with the following code inside:"
   ]
  },
  {
   "cell_type": "code",
   "execution_count": null,
   "metadata": {},
   "outputs": [],
   "source": [
    "version: 2\n",
    "jobs:\n",
    "    \n",
    "  build:\n",
    "      \n",
    "    docker:\n",
    "        \n",
    "      - image: circleci/python:3.7\n",
    "\n",
    "    working_directory: ~/repo\n",
    "\n",
    "    steps:\n",
    "        \n",
    "      - checkout\n",
    "          \n",
    "      - run:\n",
    "          \n",
    "          name: virtual enviroment start\n",
    "          command: |\n",
    "            python3 -m venv venv\n",
    "            . venv/bin/activate\n",
    "            pip install -r requirements.txt\n",
    "                \n",
    "      - run:\n",
    "          \n",
    "          name: test\n",
    "          command: |\n",
    "            . venv/bin/activate\n",
    "            pytest -v=calc"
   ]
  },
  {
   "cell_type": "markdown",
   "metadata": {},
   "source": [
    "6º: Now commit some changes to the code and voilá! All pushes made will trigger your test_calculator.py and the results will be visible on CircleCI, at Jobs."
   ]
  },
  {
   "cell_type": "markdown",
   "metadata": {},
   "source": [
    "## Why it helps?\n",
    "\n",
    "- Enhance developers productivity. It makes the team more productive once the CI process is all made automatically.\n",
    "\n",
    "- With tests being made more often, bugs are discovered earlier, before scaling.\n",
    "\n",
    "- Features can be released more often, knowing they won't break the application.\n",
    "\n",
    "- You will have to spend less resources on fixing others code so you can integrate your own code to the build."
   ]
  },
  {
   "cell_type": "markdown",
   "metadata": {},
   "source": [
    "**Some examples of Continuous Integration Servers**\n",
    "- [CircleCI](https://circleci.com/)\n",
    "- [TravisCI](https://travis-ci.org/)\n",
    "- [Jenkins](https://www.jenkins.io/)\n",
    "- [GitHub Actions](https://github.com/features/actions)"
   ]
  }
 ],
 "metadata": {
  "kernelspec": {
   "display_name": "Python 3",
   "language": "python",
   "name": "python3"
  },
  "language_info": {
   "codemirror_mode": {
    "name": "ipython",
    "version": 3
   },
   "file_extension": ".py",
   "mimetype": "text/x-python",
   "name": "python",
   "nbconvert_exporter": "python",
   "pygments_lexer": "ipython3",
   "version": "3.7.1"
  }
 },
 "nbformat": 4,
 "nbformat_minor": 2
}
