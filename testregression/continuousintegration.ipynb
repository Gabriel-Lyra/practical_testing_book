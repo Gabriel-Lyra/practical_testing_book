{
 "cells": [
  {
   "cell_type": "markdown",
   "metadata": {},
   "source": [
    "Continuous Integration\n",
    "================\n",
    "\n",
    "Continuous Integration (CI), is a software development technique where all developers send their code to a central repository. There it passes through a process of build and testing. It's objectives are find and investigate bugs quicker and therefore enhance code quality and also diminishing the time it takes to validate and release new features. "
   ]
  },
  {
   "cell_type": "markdown",
   "metadata": {},
   "source": [
    "## Why is it necessary?\n",
    "\n",
    "Before, developers teams could work separately for longs periods of time and then join their code to the master branch when they're done. Many problems may occur this way and many bugs where accumulated and kept there for a long time. This practice made difficult to distribute the code fast to clients. This is where Continuous Integration comes into action. "
   ]
  },
  {
   "cell_type": "markdown",
   "metadata": {},
   "source": [
    "## How does it work?\n",
    "\n",
    "Normally, developers use a version control system, such as git. Before submitted their code to code repositories such as GitHub, Bitbucket or GitLab, for example. A CI server is integrated with these code buckets in order to run the tests automatically, alongside with building the system, and may display errors right away. \n",
    "This way, the code changes are created, tested and prepared automatically, so that the production are facilitated. "
   ]
  },
  {
   "cell_type": "markdown",
   "metadata": {},
   "source": [
    "## Hands On:\n",
    "\n",
    "Now let's create the whole chain of steps necessary to use CI. For this exercise you'll need know the basics of Git and Python. We will be using Github and CircleCI as our integration services and Linux and Python as our platforms.\n",
    "As such, some basic steps need to be taken: A repository on github, a virtual working enviroment a simple example code and tests for the code."
   ]
  },
  {
   "cell_type": "markdown",
   "metadata": {},
   "source": [
    "1º: Create a new repository on Github and call it CI_example and then clone the repository to your machine."
   ]
  },
  {
   "cell_type": "markdown",
   "metadata": {},
   "source": [
    "2º: Create a working enviroment\n",
    "   \n",
    "    $ python3 -m venv Calculator\n",
    "    $ . Calculator/bin/activate"
   ]
  },
  {
   "cell_type": "markdown",
   "metadata": {},
   "source": [
    "3º: Write some simple code on python or use this example and call it calc:\n"
   ]
  },
  {
   "cell_type": "markdown",
   "metadata": {},
   "source": [
    "    def add(x, y):\n",
    "        return x + y\n",
    "\n",
    "    def subtract(x, y):\n",
    "        return x - y\n",
    "        \n",
    "    def multiply(x, y):\n",
    "        return x * y\n",
    "        \n",
    "    def divide(x, y):\n",
    "            return x / y\n"
   ]
  },
  {
   "cell_type": "markdown",
   "metadata": {},
   "source": [
    "    Now commit your code\n",
    "    \n",
    "    $ cd CI_example\n",
    "    $ git add calc.py\n",
    "    $ git commit -m"
   ]
  },
  {
   "cell_type": "markdown",
   "metadata": {},
   "source": [
    "4º: Write some tests for the code on python or use this example and call it calc_tests:\n"
   ]
  },
  {
   "cell_type": "markdown",
   "metadata": {},
   "source": [
    "    import calc\n",
    "\n",
    "\n",
    "    class test:\n",
    "\n",
    "        def test_addition(self):\n",
    "            assert 4 == calculator.add(2, 2)\n",
    "\n",
    "        def test_subtraction(self):\n",
    "            assert 2 == calculator.subtract(4, 2)\n",
    "            \n",
    "        def test_multiplication(self):\n",
    "            assert 100 == calculator.multiply(10, 10)\n",
    "            \n",
    "        def test_division(self):\n",
    "            assert 5 == calculator.divide(25, 5)"
   ]
  },
  {
   "cell_type": "markdown",
   "metadata": {},
   "source": [
    "    For testing we will use pytest, so go ahead and install it\n",
    "    \n",
    "    $ pip install pytest"
   ]
  },
  {
   "cell_type": "markdown",
   "metadata": {},
   "source": [
    "    Normally, you would now use \"$ pytest -v\" to test your code. Instead we shall commit the tests to the Github repository\n",
    "    \n",
    "    $ git add calc_tests.py\n",
    "    $ git commit -m\n",
    "    $ git push"
   ]
  },
  {
   "cell_type": "markdown",
   "metadata": {},
   "source": [
    "5º: Finally, let's integrate your codes and your Github to CircleCI! For this you need to create a .circleci folder in your repository and a config.yml file, like so:\n",
    "\n",
    "    jobs:\n",
    "    \n",
    "      build:\n",
    "      \n",
    "        docker:\n",
    "        \n",
    "          - image: circleci/python:3.7\n",
    "\n",
    "        working_directory: ~/repo\n",
    "\n",
    "        steps:\n",
    "        \n",
    "          - checkout\n",
    "          \n",
    "          - run:\n",
    "          \n",
    "              name: virtual enviroment start\n",
    "              command: |\n",
    "                python3 -m venv venv\n",
    "                . venv/bin/activate\n",
    "                pip install -r requirements.txt\n",
    "                \n",
    "          - run:\n",
    "          \n",
    "              name: test\n",
    "              command: |\n",
    "                . venv/bin/activate\n",
    "                pytest -v=calc"
   ]
  },
  {
   "cell_type": "markdown",
   "metadata": {},
   "source": [
    "6º: Now commit some changes to the code and voilá! All pushes made will trigger your test_calculator.py and the results will be visible on CircleCI, at Jobs."
   ]
  },
  {
   "cell_type": "markdown",
   "metadata": {},
   "source": [
    "## Why it helps?\n",
    "\n",
    "- Enhance developers productivity.\n",
    "It makes the team more productive once the CI process is all made automatically.\n",
    "\n",
    "- With tests being made more often, bugs are discovered earlier, before scaling.\n",
    "\n",
    "- Features are released more often "
   ]
  },
  {
   "cell_type": "markdown",
   "metadata": {},
   "source": [
    "**Some examples of Continuous Integration Servers**\n",
    "- [CircleCI](https://circleci.com/)\n",
    "- [TravisCI](https://travis-ci.org/)\n",
    "- [Jenkins](https://www.jenkins.io/)\n",
    "- [GitHub Actions](https://github.com/features/actions)\n",
    "\n",
    "For a simple demonstration of integrating TravisCI into your GitHub code, watch this [short video](https://www.youtube.com/watch?v=FEXY1ZP-sBs) from the Onwwward channel on Youtube\n"
   ]
  }
 ],
 "metadata": {
  "kernelspec": {
   "display_name": "Python 3",
   "language": "python",
   "name": "python3"
  },
  "language_info": {
   "codemirror_mode": {
    "name": "ipython",
    "version": 3
   },
   "file_extension": ".py",
   "mimetype": "text/x-python",
   "name": "python",
   "nbconvert_exporter": "python",
   "pygments_lexer": "ipython3",
   "version": "3.7.1"
  }
 },
 "nbformat": 4,
 "nbformat_minor": 2
}
